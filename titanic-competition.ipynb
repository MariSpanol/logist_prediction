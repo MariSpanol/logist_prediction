{
 "cells": [
  {
   "cell_type": "markdown",
   "id": "light-limitation",
   "metadata": {
    "papermill": {
     "duration": 0.033404,
     "end_time": "2021-05-23T17:36:31.123965",
     "exception": false,
     "start_time": "2021-05-23T17:36:31.090561",
     "status": "completed"
    },
    "tags": []
   },
   "source": [
    "# Titanic Project \n",
    "\n",
    "OTitanic foi um navio de passageiros britânico que afundou no Oceano Atlântico Norte em 1912 após colidir com um iceberg em sua primeira viagem em que estava indo de Southampton para Nova York.\n",
    "Estima-se que estavam a bordo 2.224 pessoas dentre passageiros e tripulantes do navio. Estima-se que mais de 1.500 morreram o que tornou o Titanic um dos principais (se não o principal) desastre marítimo em todos estes anos.\n",
    "Dito isso, a problemática aqui é criar um modelo preditivo que possa prever qual passageiro iria sobreviver ou morrer no desastre.\n",
    "\n",
    "Pontos importantes antes de iniciarmos:\n",
    "-Como nosso evento de interesse é categórico (viver ou morrer), nosso modelo será um modelo de classificação, em que o target (ou a variável resposta) é viver ou morrer.\n",
    "-Como faremos processos em diversas variáveis iremos criar funções para gerar os outputs assim reduziremos e deixaremos o código mais \"clean\" e fácil de interpretação.\n",
    "Então, bora lá!\n",
    "\n",
    "\n",
    "O que veremos aqui:\n",
    "\n",
    "1) Conhecendo a base\n",
    "\n",
    "2) Análise descritiva\n",
    "\n",
    "3) Seleção das variáveis\n",
    "\n",
    "4) Processamento dos dados\n",
    "\n",
    "5) Rodando os modelos\n",
    "\n",
    "6) Conclusão\n",
    "\n",
    "7) Submissão no Kaggle"
   ]
  },
  {
   "cell_type": "code",
   "execution_count": 1,
   "id": "sized-import",
   "metadata": {
    "execution": {
     "iopub.execute_input": "2021-05-23T17:36:31.198124Z",
     "iopub.status.busy": "2021-05-23T17:36:31.196252Z",
     "iopub.status.idle": "2021-05-23T17:36:32.292843Z",
     "shell.execute_reply": "2021-05-23T17:36:32.292232Z",
     "shell.execute_reply.started": "2021-05-23T17:34:40.412025Z"
    },
    "papermill": {
     "duration": 1.135521,
     "end_time": "2021-05-23T17:36:32.292988",
     "exception": false,
     "start_time": "2021-05-23T17:36:31.157467",
     "status": "completed"
    },
    "tags": []
   },
   "outputs": [],
   "source": [
    "# importando os pacotes necessários\n",
    "import pandas as pd #formatação de bases\n",
    "import numpy as np #utilizo em loops e funções para alocação dos resultados/variáveis\n",
    "from xgboost import XGBClassifier #modelo escolhido 1\n",
    "from sklearn.linear_model import LogisticRegression #modelo escolhido 2\n",
    "from sklearn.ensemble import RandomForestClassifier #modelo escolhido 3\n",
    "from sklearn.model_selection import cross_val_score #cross validation\n",
    "import warnings\n",
    "warnings.filterwarnings(\"ignore\") #ignorando warnings dos modelos"
   ]
  },
  {
   "cell_type": "markdown",
   "id": "listed-express",
   "metadata": {
    "papermill": {
     "duration": 0.031359,
     "end_time": "2021-05-23T17:36:32.356220",
     "exception": false,
     "start_time": "2021-05-23T17:36:32.324861",
     "status": "completed"
    },
    "tags": []
   },
   "source": [
    "#### 1) Conhecendo a base\n",
    "\n",
    "Iniciaremos conhecendo a nossa base, verificando quais são os atributos contidos nela, quais são os tipos dos atributos e investigar possíveis falhas e mudanças necessárias na base de dados.\n",
    "\n",
    "O Kaggle fornece os dados para o desafio TITANIC já separados em treino em teste, porém considero de extrema importância compreender a base de dados em sua totalidade antes de dividir, então irei concatenar e utilizar a amostra para exploração e quando chegarmos ao Machine Learning usar as bases divididas."
   ]
  },
  {
   "cell_type": "markdown",
   "id": "promotional-bunny",
   "metadata": {
    "papermill": {
     "duration": 0.03239,
     "end_time": "2021-05-23T17:36:32.421738",
     "exception": false,
     "start_time": "2021-05-23T17:36:32.389348",
     "status": "completed"
    },
    "tags": []
   },
   "source": [
    "##### Lendo e concatenando a base"
   ]
  },
  {
   "cell_type": "code",
   "execution_count": 2,
   "id": "insured-substance",
   "metadata": {
    "execution": {
     "iopub.execute_input": "2021-05-23T17:36:32.491146Z",
     "iopub.status.busy": "2021-05-23T17:36:32.490524Z",
     "iopub.status.idle": "2021-05-23T17:36:32.529533Z",
     "shell.execute_reply": "2021-05-23T17:36:32.529962Z",
     "shell.execute_reply.started": "2021-05-23T17:34:41.700337Z"
    },
    "papermill": {
     "duration": 0.076634,
     "end_time": "2021-05-23T17:36:32.530105",
     "exception": false,
     "start_time": "2021-05-23T17:36:32.453471",
     "status": "completed"
    },
    "tags": []
   },
   "outputs": [
    {
     "data": {
      "text/plain": [
       "Index(['PassengerId', 'Survived', 'Pclass', 'Name', 'Sex', 'Age', 'SibSp',\n",
       "       'Parch', 'Ticket', 'Fare', 'Cabin', 'Embarked'],\n",
       "      dtype='object')"
      ]
     },
     "execution_count": 2,
     "metadata": {},
     "output_type": "execute_result"
    }
   ],
   "source": [
    "test = pd.read_csv('../input/titanic/test.csv') # csv de teste\n",
    "train = pd.read_csv('../input/titanic/train.csv') # csv de treino\n",
    "all_data = train.append(test, ignore_index=True) # juntando a base\n",
    "all_data.columns #nomes de colunas\n",
    "\n",
    "#test = test.dropna() #retirando NA's desde o inicio pois posso esquecer esse processo e ter problemas no futuro\n",
    "#train = train.dropna() #retirando NA's desde o inicio pois posso esquecer esse processo e ter problemas no futuro\n",
    "\n"
   ]
  },
  {
   "cell_type": "markdown",
   "id": "bacterial-explanation",
   "metadata": {
    "papermill": {
     "duration": 0.032607,
     "end_time": "2021-05-23T17:36:32.596068",
     "exception": false,
     "start_time": "2021-05-23T17:36:32.563461",
     "status": "completed"
    },
    "tags": []
   },
   "source": [
    "##### Descrição das variáveis:\n",
    "\n",
    "* PassengerId: Identificação de cada passageiro\n",
    "* Survived: O passageiro sobreviveu ou não? (1 = Sobreviveu / 0 = Morreu)\n",
    "* Pclass: A classe de viagem do passageiro (Primeira Classe, Segunda Classe....)\n",
    "* Name: Nome do Passageiro\n",
    "* Sex: Gênero do Passageiro\n",
    "* Age: Idade do Passageiro\n",
    "* SibSp: Número de Irmãos ou Cônjuges abordo\n",
    "* Parch: Número de Pais ou Crianças aborod\n",
    "* Ticket: Número de ticket do passageiro\n",
    "* Fare: Valor de tarifa paga\n",
    "* Cabin: Número da cabine do Passageiro\n",
    "* Embarked: Porto de Embarcação (C = Cherbourg / Q = Queenstown / S = Southampton)"
   ]
  },
  {
   "cell_type": "markdown",
   "id": "logical-adelaide",
   "metadata": {
    "papermill": {
     "duration": 0.032661,
     "end_time": "2021-05-23T17:36:32.661822",
     "exception": false,
     "start_time": "2021-05-23T17:36:32.629161",
     "status": "completed"
    },
    "tags": []
   },
   "source": [
    "##### Tipo das variáveis"
   ]
  },
  {
   "cell_type": "code",
   "execution_count": 3,
   "id": "integrated-pipeline",
   "metadata": {
    "execution": {
     "iopub.execute_input": "2021-05-23T17:36:32.727321Z",
     "iopub.status.busy": "2021-05-23T17:36:32.726791Z",
     "iopub.status.idle": "2021-05-23T17:36:32.746206Z",
     "shell.execute_reply": "2021-05-23T17:36:32.746618Z",
     "shell.execute_reply.started": "2021-05-23T17:34:41.750041Z"
    },
    "papermill": {
     "duration": 0.053513,
     "end_time": "2021-05-23T17:36:32.746763",
     "exception": false,
     "start_time": "2021-05-23T17:36:32.693250",
     "status": "completed"
    },
    "tags": []
   },
   "outputs": [
    {
     "name": "stdout",
     "output_type": "stream",
     "text": [
      "<class 'pandas.core.frame.DataFrame'>\n",
      "RangeIndex: 1309 entries, 0 to 1308\n",
      "Data columns (total 12 columns):\n",
      " #   Column       Non-Null Count  Dtype  \n",
      "---  ------       --------------  -----  \n",
      " 0   PassengerId  1309 non-null   int64  \n",
      " 1   Survived     891 non-null    float64\n",
      " 2   Pclass       1309 non-null   int64  \n",
      " 3   Name         1309 non-null   object \n",
      " 4   Sex          1309 non-null   object \n",
      " 5   Age          1046 non-null   float64\n",
      " 6   SibSp        1309 non-null   int64  \n",
      " 7   Parch        1309 non-null   int64  \n",
      " 8   Ticket       1309 non-null   object \n",
      " 9   Fare         1308 non-null   float64\n",
      " 10  Cabin        295 non-null    object \n",
      " 11  Embarked     1307 non-null   object \n",
      "dtypes: float64(3), int64(4), object(5)\n",
      "memory usage: 122.8+ KB\n"
     ]
    }
   ],
   "source": [
    "all_data.info()"
   ]
  },
  {
   "cell_type": "markdown",
   "id": "refined-latino",
   "metadata": {
    "papermill": {
     "duration": 0.032926,
     "end_time": "2021-05-23T17:36:32.812172",
     "exception": false,
     "start_time": "2021-05-23T17:36:32.779246",
     "status": "completed"
    },
    "tags": []
   },
   "source": [
    "A maioria dos valores são categóricos o que faz sentido visto que são características referentes aos passageiros.\n",
    "Temos informações sobre 1309 passageiros do navio."
   ]
  },
  {
   "cell_type": "markdown",
   "id": "dramatic-coffee",
   "metadata": {
    "papermill": {
     "duration": 0.034304,
     "end_time": "2021-05-23T17:36:32.880218",
     "exception": false,
     "start_time": "2021-05-23T17:36:32.845914",
     "status": "completed"
    },
    "tags": []
   },
   "source": [
    "##### Identificando valores nulos e/ou duplicados"
   ]
  },
  {
   "cell_type": "code",
   "execution_count": 4,
   "id": "senior-dressing",
   "metadata": {
    "execution": {
     "iopub.execute_input": "2021-05-23T17:36:32.962854Z",
     "iopub.status.busy": "2021-05-23T17:36:32.960135Z",
     "iopub.status.idle": "2021-05-23T17:36:32.974914Z",
     "shell.execute_reply": "2021-05-23T17:36:32.975803Z",
     "shell.execute_reply.started": "2021-05-23T17:34:41.776280Z"
    },
    "papermill": {
     "duration": 0.060921,
     "end_time": "2021-05-23T17:36:32.976029",
     "exception": false,
     "start_time": "2021-05-23T17:36:32.915108",
     "status": "completed"
    },
    "tags": []
   },
   "outputs": [
    {
     "name": "stdout",
     "output_type": "stream",
     "text": [
      "Quantidade de valores nulos na base de dados: 1698\n",
      "Quantidade de valores nulos na base de treino: PassengerId      0\n",
      "Survived         0\n",
      "Pclass           0\n",
      "Name             0\n",
      "Sex              0\n",
      "Age            177\n",
      "SibSp            0\n",
      "Parch            0\n",
      "Ticket           0\n",
      "Fare             0\n",
      "Cabin          687\n",
      "Embarked         2\n",
      "dtype: int64\n",
      "Quantidade de valores nulos na base de teste: PassengerId      0\n",
      "Pclass           0\n",
      "Name             0\n",
      "Sex              0\n",
      "Age             86\n",
      "SibSp            0\n",
      "Parch            0\n",
      "Ticket           0\n",
      "Fare             1\n",
      "Cabin          327\n",
      "Embarked         0\n",
      "dtype: int64\n",
      "Dimensão após excluir linhas duplicadas: (1309, 12)\n"
     ]
    }
   ],
   "source": [
    "# Quantidade de valores nulos serão os de teste pois a base não tem o survived\n",
    "  #quantitade de valores nulos na base total\n",
    "print('Quantidade de valores nulos na base de dados:', all_data.isna().sum().sum()) \n",
    "\n",
    "# nulos em cada base treino\n",
    "print('Quantidade de valores nulos na base de treino:', train.isna().sum()) # são os valores da base de teste\n",
    "\n",
    "# nulos em cada base teste\n",
    "print('Quantidade de valores nulos na base de teste:', test.isna().sum()) # são os valores da base de teste\n",
    "\n",
    "# Removendo valores duplicados\n",
    "all_data=all_data.drop_duplicates()\n",
    "print('Dimensão após excluir linhas duplicadas:', all_data.shape)\n",
    "\n"
   ]
  },
  {
   "cell_type": "markdown",
   "id": "revolutionary-smoke",
   "metadata": {
    "papermill": {
     "duration": 0.035588,
     "end_time": "2021-05-23T17:36:33.048169",
     "exception": false,
     "start_time": "2021-05-23T17:36:33.012581",
     "status": "completed"
    },
    "tags": []
   },
   "source": [
    "##### Sumário estatístico dos dados"
   ]
  },
  {
   "cell_type": "code",
   "execution_count": 5,
   "id": "uniform-wellington",
   "metadata": {
    "execution": {
     "iopub.execute_input": "2021-05-23T17:36:33.119734Z",
     "iopub.status.busy": "2021-05-23T17:36:33.119234Z",
     "iopub.status.idle": "2021-05-23T17:36:33.182097Z",
     "shell.execute_reply": "2021-05-23T17:36:33.181543Z",
     "shell.execute_reply.started": "2021-05-23T17:34:41.804013Z"
    },
    "papermill": {
     "duration": 0.09932,
     "end_time": "2021-05-23T17:36:33.182232",
     "exception": false,
     "start_time": "2021-05-23T17:36:33.082912",
     "status": "completed"
    },
    "tags": []
   },
   "outputs": [
    {
     "data": {
      "text/html": [
       "<div>\n",
       "<style scoped>\n",
       "    .dataframe tbody tr th:only-of-type {\n",
       "        vertical-align: middle;\n",
       "    }\n",
       "\n",
       "    .dataframe tbody tr th {\n",
       "        vertical-align: top;\n",
       "    }\n",
       "\n",
       "    .dataframe thead th {\n",
       "        text-align: right;\n",
       "    }\n",
       "</style>\n",
       "<table border=\"1\" class=\"dataframe\">\n",
       "  <thead>\n",
       "    <tr style=\"text-align: right;\">\n",
       "      <th></th>\n",
       "      <th>PassengerId</th>\n",
       "      <th>Survived</th>\n",
       "      <th>Pclass</th>\n",
       "      <th>Name</th>\n",
       "      <th>Sex</th>\n",
       "      <th>Age</th>\n",
       "      <th>SibSp</th>\n",
       "      <th>Parch</th>\n",
       "      <th>Ticket</th>\n",
       "      <th>Fare</th>\n",
       "      <th>Cabin</th>\n",
       "      <th>Embarked</th>\n",
       "    </tr>\n",
       "  </thead>\n",
       "  <tbody>\n",
       "    <tr>\n",
       "      <th>count</th>\n",
       "      <td>1309.000000</td>\n",
       "      <td>891.000000</td>\n",
       "      <td>1309.000000</td>\n",
       "      <td>1309</td>\n",
       "      <td>1309</td>\n",
       "      <td>1046.000000</td>\n",
       "      <td>1309.000000</td>\n",
       "      <td>1309.000000</td>\n",
       "      <td>1309</td>\n",
       "      <td>1308.000000</td>\n",
       "      <td>295</td>\n",
       "      <td>1307</td>\n",
       "    </tr>\n",
       "    <tr>\n",
       "      <th>unique</th>\n",
       "      <td>NaN</td>\n",
       "      <td>NaN</td>\n",
       "      <td>NaN</td>\n",
       "      <td>1307</td>\n",
       "      <td>2</td>\n",
       "      <td>NaN</td>\n",
       "      <td>NaN</td>\n",
       "      <td>NaN</td>\n",
       "      <td>929</td>\n",
       "      <td>NaN</td>\n",
       "      <td>186</td>\n",
       "      <td>3</td>\n",
       "    </tr>\n",
       "    <tr>\n",
       "      <th>top</th>\n",
       "      <td>NaN</td>\n",
       "      <td>NaN</td>\n",
       "      <td>NaN</td>\n",
       "      <td>Connolly, Miss. Kate</td>\n",
       "      <td>male</td>\n",
       "      <td>NaN</td>\n",
       "      <td>NaN</td>\n",
       "      <td>NaN</td>\n",
       "      <td>CA. 2343</td>\n",
       "      <td>NaN</td>\n",
       "      <td>C23 C25 C27</td>\n",
       "      <td>S</td>\n",
       "    </tr>\n",
       "    <tr>\n",
       "      <th>freq</th>\n",
       "      <td>NaN</td>\n",
       "      <td>NaN</td>\n",
       "      <td>NaN</td>\n",
       "      <td>2</td>\n",
       "      <td>843</td>\n",
       "      <td>NaN</td>\n",
       "      <td>NaN</td>\n",
       "      <td>NaN</td>\n",
       "      <td>11</td>\n",
       "      <td>NaN</td>\n",
       "      <td>6</td>\n",
       "      <td>914</td>\n",
       "    </tr>\n",
       "    <tr>\n",
       "      <th>mean</th>\n",
       "      <td>655.000000</td>\n",
       "      <td>0.383838</td>\n",
       "      <td>2.294882</td>\n",
       "      <td>NaN</td>\n",
       "      <td>NaN</td>\n",
       "      <td>29.881138</td>\n",
       "      <td>0.498854</td>\n",
       "      <td>0.385027</td>\n",
       "      <td>NaN</td>\n",
       "      <td>33.295479</td>\n",
       "      <td>NaN</td>\n",
       "      <td>NaN</td>\n",
       "    </tr>\n",
       "    <tr>\n",
       "      <th>std</th>\n",
       "      <td>378.020061</td>\n",
       "      <td>0.486592</td>\n",
       "      <td>0.837836</td>\n",
       "      <td>NaN</td>\n",
       "      <td>NaN</td>\n",
       "      <td>14.413493</td>\n",
       "      <td>1.041658</td>\n",
       "      <td>0.865560</td>\n",
       "      <td>NaN</td>\n",
       "      <td>51.758668</td>\n",
       "      <td>NaN</td>\n",
       "      <td>NaN</td>\n",
       "    </tr>\n",
       "    <tr>\n",
       "      <th>min</th>\n",
       "      <td>1.000000</td>\n",
       "      <td>0.000000</td>\n",
       "      <td>1.000000</td>\n",
       "      <td>NaN</td>\n",
       "      <td>NaN</td>\n",
       "      <td>0.170000</td>\n",
       "      <td>0.000000</td>\n",
       "      <td>0.000000</td>\n",
       "      <td>NaN</td>\n",
       "      <td>0.000000</td>\n",
       "      <td>NaN</td>\n",
       "      <td>NaN</td>\n",
       "    </tr>\n",
       "    <tr>\n",
       "      <th>25%</th>\n",
       "      <td>328.000000</td>\n",
       "      <td>0.000000</td>\n",
       "      <td>2.000000</td>\n",
       "      <td>NaN</td>\n",
       "      <td>NaN</td>\n",
       "      <td>21.000000</td>\n",
       "      <td>0.000000</td>\n",
       "      <td>0.000000</td>\n",
       "      <td>NaN</td>\n",
       "      <td>7.895800</td>\n",
       "      <td>NaN</td>\n",
       "      <td>NaN</td>\n",
       "    </tr>\n",
       "    <tr>\n",
       "      <th>50%</th>\n",
       "      <td>655.000000</td>\n",
       "      <td>0.000000</td>\n",
       "      <td>3.000000</td>\n",
       "      <td>NaN</td>\n",
       "      <td>NaN</td>\n",
       "      <td>28.000000</td>\n",
       "      <td>0.000000</td>\n",
       "      <td>0.000000</td>\n",
       "      <td>NaN</td>\n",
       "      <td>14.454200</td>\n",
       "      <td>NaN</td>\n",
       "      <td>NaN</td>\n",
       "    </tr>\n",
       "    <tr>\n",
       "      <th>75%</th>\n",
       "      <td>982.000000</td>\n",
       "      <td>1.000000</td>\n",
       "      <td>3.000000</td>\n",
       "      <td>NaN</td>\n",
       "      <td>NaN</td>\n",
       "      <td>39.000000</td>\n",
       "      <td>1.000000</td>\n",
       "      <td>0.000000</td>\n",
       "      <td>NaN</td>\n",
       "      <td>31.275000</td>\n",
       "      <td>NaN</td>\n",
       "      <td>NaN</td>\n",
       "    </tr>\n",
       "    <tr>\n",
       "      <th>max</th>\n",
       "      <td>1309.000000</td>\n",
       "      <td>1.000000</td>\n",
       "      <td>3.000000</td>\n",
       "      <td>NaN</td>\n",
       "      <td>NaN</td>\n",
       "      <td>80.000000</td>\n",
       "      <td>8.000000</td>\n",
       "      <td>9.000000</td>\n",
       "      <td>NaN</td>\n",
       "      <td>512.329200</td>\n",
       "      <td>NaN</td>\n",
       "      <td>NaN</td>\n",
       "    </tr>\n",
       "  </tbody>\n",
       "</table>\n",
       "</div>"
      ],
      "text/plain": [
       "        PassengerId    Survived       Pclass                  Name   Sex  \\\n",
       "count   1309.000000  891.000000  1309.000000                  1309  1309   \n",
       "unique          NaN         NaN          NaN                  1307     2   \n",
       "top             NaN         NaN          NaN  Connolly, Miss. Kate  male   \n",
       "freq            NaN         NaN          NaN                     2   843   \n",
       "mean     655.000000    0.383838     2.294882                   NaN   NaN   \n",
       "std      378.020061    0.486592     0.837836                   NaN   NaN   \n",
       "min        1.000000    0.000000     1.000000                   NaN   NaN   \n",
       "25%      328.000000    0.000000     2.000000                   NaN   NaN   \n",
       "50%      655.000000    0.000000     3.000000                   NaN   NaN   \n",
       "75%      982.000000    1.000000     3.000000                   NaN   NaN   \n",
       "max     1309.000000    1.000000     3.000000                   NaN   NaN   \n",
       "\n",
       "                Age        SibSp        Parch    Ticket         Fare  \\\n",
       "count   1046.000000  1309.000000  1309.000000      1309  1308.000000   \n",
       "unique          NaN          NaN          NaN       929          NaN   \n",
       "top             NaN          NaN          NaN  CA. 2343          NaN   \n",
       "freq            NaN          NaN          NaN        11          NaN   \n",
       "mean      29.881138     0.498854     0.385027       NaN    33.295479   \n",
       "std       14.413493     1.041658     0.865560       NaN    51.758668   \n",
       "min        0.170000     0.000000     0.000000       NaN     0.000000   \n",
       "25%       21.000000     0.000000     0.000000       NaN     7.895800   \n",
       "50%       28.000000     0.000000     0.000000       NaN    14.454200   \n",
       "75%       39.000000     1.000000     0.000000       NaN    31.275000   \n",
       "max       80.000000     8.000000     9.000000       NaN   512.329200   \n",
       "\n",
       "              Cabin Embarked  \n",
       "count           295     1307  \n",
       "unique          186        3  \n",
       "top     C23 C25 C27        S  \n",
       "freq              6      914  \n",
       "mean            NaN      NaN  \n",
       "std             NaN      NaN  \n",
       "min             NaN      NaN  \n",
       "25%             NaN      NaN  \n",
       "50%             NaN      NaN  \n",
       "75%             NaN      NaN  \n",
       "max             NaN      NaN  "
      ]
     },
     "execution_count": 5,
     "metadata": {},
     "output_type": "execute_result"
    }
   ],
   "source": [
    "all_data.describe(include='all')"
   ]
  },
  {
   "cell_type": "markdown",
   "id": "limited-hollywood",
   "metadata": {
    "papermill": {
     "duration": 0.033949,
     "end_time": "2021-05-23T17:36:33.250895",
     "exception": false,
     "start_time": "2021-05-23T17:36:33.216946",
     "status": "completed"
    },
    "tags": []
   },
   "source": [
    "O sumário descritivo é de alta relevância no inicio da análise pois podemos ver as estatísticas mais rápidas e já entender as informações em que estamos lidando.\n",
    "Com este quadro podemos prceber que os passageiros tinham média de idade de 29 anos, evidenciando uma tripulação e passageiros jovens com tarifa média de 32.\n",
    "Por serem em sua maioria categóricas este sumário estatístico se torna limitado às numéricas.\n"
   ]
  },
  {
   "cell_type": "markdown",
   "id": "pressing-science",
   "metadata": {
    "papermill": {
     "duration": 0.03388,
     "end_time": "2021-05-23T17:36:33.319258",
     "exception": false,
     "start_time": "2021-05-23T17:36:33.285378",
     "status": "completed"
    },
    "tags": []
   },
   "source": [
    "### 2) Análise Exploratória \n",
    "\n",
    "Agora analisaremos visualmente os dados e para isso iremos começar com distribuição de frequencia absoluta (contagem) das variáveis qualitativas.\n",
    "\n",
    "Após este processo iremos analisar as quantitativas e por fim (antes de passar à próxima seção)  daremos enfoque na relação entre as variáveis e a target, investigando associações e informações que possam ser de importância."
   ]
  },
  {
   "cell_type": "markdown",
   "id": "considerable-closer",
   "metadata": {
    "papermill": {
     "duration": 0.034079,
     "end_time": "2021-05-23T17:36:33.387245",
     "exception": false,
     "start_time": "2021-05-23T17:36:33.353166",
     "status": "completed"
    },
    "tags": []
   },
   "source": [
    "##### Variáveis Qualitativas"
   ]
  },
  {
   "cell_type": "code",
   "execution_count": 6,
   "id": "removed-speaking",
   "metadata": {
    "execution": {
     "iopub.execute_input": "2021-05-23T17:36:33.465367Z",
     "iopub.status.busy": "2021-05-23T17:36:33.464647Z",
     "iopub.status.idle": "2021-05-23T17:36:33.467137Z",
     "shell.execute_reply": "2021-05-23T17:36:33.466688Z",
     "shell.execute_reply.started": "2021-05-23T17:34:41.870725Z"
    },
    "papermill": {
     "duration": 0.045426,
     "end_time": "2021-05-23T17:36:33.467255",
     "exception": false,
     "start_time": "2021-05-23T17:36:33.421829",
     "status": "completed"
    },
    "tags": []
   },
   "outputs": [],
   "source": [
    "# escrevendo a função para gerar os gráficos de barra\n",
    "def Plot_Bar(dados, colunas):\n",
    "    \n",
    "    import matplotlib.pyplot as plt\n",
    "    \n",
    "    %matplotlib inline\n",
    "    \n",
    "    \n",
    "    fig, subPlot=plt.subplots(nrows=1, ncols=len(colunas), figsize=(19,5))\n",
    "    fig.suptitle('Bar charts of: '+ str(colunas))\n",
    "\n",
    "    for nomecoluna, ngraficos in zip(colunas, range(len(colunas))):\n",
    "        dados.groupby(nomecoluna).size().plot(kind='bar',ax=subPlot[ngraficos])\n",
    "        "
   ]
  },
  {
   "cell_type": "code",
   "execution_count": 7,
   "id": "planned-herald",
   "metadata": {
    "execution": {
     "iopub.execute_input": "2021-05-23T17:36:33.555961Z",
     "iopub.status.busy": "2021-05-23T17:36:33.555382Z",
     "iopub.status.idle": "2021-05-23T17:36:34.202105Z",
     "shell.execute_reply": "2021-05-23T17:36:34.201600Z",
     "shell.execute_reply.started": "2021-05-23T17:34:41.878547Z"
    },
    "papermill": {
     "duration": 0.700061,
     "end_time": "2021-05-23T17:36:34.202231",
     "exception": false,
     "start_time": "2021-05-23T17:36:33.502170",
     "status": "completed"
    },
    "tags": []
   },
   "outputs": [
    {
     "data": {
      "image/png": "[encoded data removed]",
      "text/plain": [
       "<Figure size 1368x360 with 5 Axes>"
      ]
     },
     "metadata": {
      "needs_background": "light"
     },
     "output_type": "display_data"
    }
   ],
   "source": [
    "# chamando a função\n",
    "Plot_Bar(dados=all_data, colunas=['Pclass', 'Sex', 'SibSp','Parch','Embarked'])"
   ]
  },
  {
   "cell_type": "markdown",
   "id": "increasing-belief",
   "metadata": {
    "papermill": {
     "duration": 0.034561,
     "end_time": "2021-05-23T17:36:34.272133",
     "exception": false,
     "start_time": "2021-05-23T17:36:34.237572",
     "status": "completed"
    },
    "tags": []
   },
   "source": [
    "Gráficos de barra são a melhor opção quando desejamos retirar insights rápidos de distribuição de variáveis. De cara algumas pontuações podem ser feitas a partir das visualizações: A maioria dos passageiros eram do sexo masculino e viajaram na terceira classe, a maioria dos passageiros não tinham parentes/filhos/cônjuges no navio e a grande maioria embarcou em Southampton.\n"
   ]
  },
  {
   "cell_type": "markdown",
   "id": "affecting-massachusetts",
   "metadata": {
    "papermill": {
     "duration": 0.034608,
     "end_time": "2021-05-23T17:36:34.341129",
     "exception": false,
     "start_time": "2021-05-23T17:36:34.306521",
     "status": "completed"
    },
    "tags": []
   },
   "source": [
    "##### Variáveis Quantitativas"
   ]
  },
  {
   "cell_type": "code",
   "execution_count": 8,
   "id": "standing-needle",
   "metadata": {
    "execution": {
     "iopub.execute_input": "2021-05-23T17:36:34.453863Z",
     "iopub.status.busy": "2021-05-23T17:36:34.452690Z",
     "iopub.status.idle": "2021-05-23T17:36:34.683014Z",
     "shell.execute_reply": "2021-05-23T17:36:34.683465Z",
     "shell.execute_reply.started": "2021-05-23T17:34:42.538195Z"
    },
    "papermill": {
     "duration": 0.307461,
     "end_time": "2021-05-23T17:36:34.683629",
     "exception": false,
     "start_time": "2021-05-23T17:36:34.376168",
     "status": "completed"
    },
    "tags": []
   },
   "outputs": [
    {
     "data": {
      "text/plain": [
       "array([[<AxesSubplot:title={'center':'Age'}>,\n",
       "        <AxesSubplot:title={'center':'Fare'}>]], dtype=object)"
      ]
     },
     "execution_count": 8,
     "metadata": {},
     "output_type": "execute_result"
    },
    {
     "data": {
      "image/png": "[encoded data removed]",
      "text/plain": [
       "<Figure size 1296x360 with 2 Axes>"
      ]
     },
     "metadata": {
      "needs_background": "light"
     },
     "output_type": "display_data"
    }
   ],
   "source": [
    "# histograma nas quantitativas\n",
    "all_data.hist(['Age', 'Fare'], figsize=(18,5))"
   ]
  },
  {
   "cell_type": "markdown",
   "id": "impaired-shopper",
   "metadata": {
    "papermill": {
     "duration": 0.034456,
     "end_time": "2021-05-23T17:36:34.753119",
     "exception": false,
     "start_time": "2021-05-23T17:36:34.718663",
     "status": "completed"
    },
    "tags": []
   },
   "source": [
    "A distribuição de idade dos passageiros evidencia que a maioria estava entre 18 à 40 anos.\n",
    "Já sobre a tarifa paga vemos que a maioria dos passageiros pagou de 0 à 100, concentrado em 50."
   ]
  },
  {
   "cell_type": "markdown",
   "id": "applicable-power",
   "metadata": {
    "papermill": {
     "duration": 0.035594,
     "end_time": "2021-05-23T17:36:34.822987",
     "exception": false,
     "start_time": "2021-05-23T17:36:34.787393",
     "status": "completed"
    },
    "tags": []
   },
   "source": [
    "#### Análise das variáveis com a target \n"
   ]
  },
  {
   "cell_type": "code",
   "execution_count": 9,
   "id": "dental-business",
   "metadata": {
    "execution": {
     "iopub.execute_input": "2021-05-23T17:36:34.913580Z",
     "iopub.status.busy": "2021-05-23T17:36:34.912206Z",
     "iopub.status.idle": "2021-05-23T17:36:35.164314Z",
     "shell.execute_reply": "2021-05-23T17:36:35.163024Z",
     "shell.execute_reply.started": "2021-05-23T17:34:42.827030Z"
    },
    "papermill": {
     "duration": 0.306304,
     "end_time": "2021-05-23T17:36:35.164445",
     "exception": false,
     "start_time": "2021-05-23T17:36:34.858141",
     "status": "completed"
    },
    "tags": []
   },
   "outputs": [
    {
     "data": {
      "image/png": "[encoded data removed]",
      "text/plain": [
       "<Figure size 360x360 with 1 Axes>"
      ]
     },
     "metadata": {
      "needs_background": "light"
     },
     "output_type": "display_data"
    },
    {
     "data": {
      "image/png": "[encoded data removed]",
      "text/plain": [
       "<Figure size 360x360 with 1 Axes>"
      ]
     },
     "metadata": {
      "needs_background": "light"
     },
     "output_type": "display_data"
    }
   ],
   "source": [
    "# Box plots entre a target e s variáveis contínuas (vai identificar a dispersão em torno da variável)\n",
    "variaveis_continuas=['Age','Fare']\n",
    "\n",
    "import matplotlib.pyplot as plt\n",
    "\n",
    "\n",
    "# Creating box plots for each continuous predictor against the Target Variable \"Survived\"\n",
    "for target , i in zip(variaveis_continuas, range(len(variaveis_continuas))):\n",
    "    all_data.boxplot(column=target, by='Survived', figsize=(5,5), vert=True)"
   ]
  },
  {
   "cell_type": "code",
   "execution_count": 10,
   "id": "needed-distributor",
   "metadata": {
    "execution": {
     "iopub.execute_input": "2021-05-23T17:36:35.246832Z",
     "iopub.status.busy": "2021-05-23T17:36:35.245928Z",
     "iopub.status.idle": "2021-05-23T17:36:36.035141Z",
     "shell.execute_reply": "2021-05-23T17:36:36.034615Z",
     "shell.execute_reply.started": "2021-05-23T17:34:43.089002Z"
    },
    "papermill": {
     "duration": 0.833892,
     "end_time": "2021-05-23T17:36:36.035276",
     "exception": false,
     "start_time": "2021-05-23T17:36:35.201384",
     "status": "completed"
    },
    "tags": []
   },
   "outputs": [
    {
     "data": {
      "image/png": "[encoded data removed]",
      "text/plain": [
       "<Figure size 432x288 with 1 Axes>"
      ]
     },
     "metadata": {
      "needs_background": "light"
     },
     "output_type": "display_data"
    },
    {
     "data": {
      "image/png": "[encoded data removed]",
      "text/plain": [
       "<Figure size 432x288 with 1 Axes>"
      ]
     },
     "metadata": {
      "needs_background": "light"
     },
     "output_type": "display_data"
    },
    {
     "data": {
      "image/png": "[encoded data removed]",
      "text/plain": [
       "<Figure size 432x288 with 1 Axes>"
      ]
     },
     "metadata": {
      "needs_background": "light"
     },
     "output_type": "display_data"
    },
    {
     "data": {
      "image/png": "[encoded data removed]",
      "text/plain": [
       "<Figure size 432x288 with 1 Axes>"
      ]
     },
     "metadata": {
      "needs_background": "light"
     },
     "output_type": "display_data"
    },
    {
     "data": {
      "image/png": "[encoded data removed]",
      "text/plain": [
       "<Figure size 432x288 with 1 Axes>"
      ]
     },
     "metadata": {
      "needs_background": "light"
     },
     "output_type": "display_data"
    }
   ],
   "source": [
    "# gráficos de colunas entre as categóricas e a taret\n",
    "colunas_categoricas=['Pclass', 'Sex', 'SibSp','Parch','Embarked']\n",
    "\n",
    "for CategoricalCol , i in zip(colunas_categoricas, range(len(colunas_categoricas))):\n",
    "    table=pd.crosstab(index=all_data[CategoricalCol], columns=all_data['Survived'])\n",
    "    table.plot.bar(color=['blue','green'], title=CategoricalCol+' Vs '+'Survived')"
   ]
  },
  {
   "cell_type": "code",
   "execution_count": 11,
   "id": "unnecessary-baltimore",
   "metadata": {
    "execution": {
     "iopub.execute_input": "2021-05-23T17:36:36.121179Z",
     "iopub.status.busy": "2021-05-23T17:36:36.120546Z",
     "iopub.status.idle": "2021-05-23T17:36:36.136438Z",
     "shell.execute_reply": "2021-05-23T17:36:36.135994Z",
     "shell.execute_reply.started": "2021-05-23T17:34:43.875134Z"
    },
    "papermill": {
     "duration": 0.061557,
     "end_time": "2021-05-23T17:36:36.136556",
     "exception": false,
     "start_time": "2021-05-23T17:36:36.074999",
     "status": "completed"
    },
    "tags": []
   },
   "outputs": [
    {
     "data": {
      "text/html": [
       "<div>\n",
       "<style scoped>\n",
       "    .dataframe tbody tr th:only-of-type {\n",
       "        vertical-align: middle;\n",
       "    }\n",
       "\n",
       "    .dataframe tbody tr th {\n",
       "        vertical-align: top;\n",
       "    }\n",
       "\n",
       "    .dataframe thead th {\n",
       "        text-align: right;\n",
       "    }\n",
       "</style>\n",
       "<table border=\"1\" class=\"dataframe\">\n",
       "  <thead>\n",
       "    <tr style=\"text-align: right;\">\n",
       "      <th>Survived</th>\n",
       "      <th>0.0</th>\n",
       "      <th>1.0</th>\n",
       "    </tr>\n",
       "    <tr>\n",
       "      <th>Sex</th>\n",
       "      <th></th>\n",
       "      <th></th>\n",
       "    </tr>\n",
       "  </thead>\n",
       "  <tbody>\n",
       "    <tr>\n",
       "      <th>female</th>\n",
       "      <td>0.090909</td>\n",
       "      <td>0.261504</td>\n",
       "    </tr>\n",
       "    <tr>\n",
       "      <th>male</th>\n",
       "      <td>0.525253</td>\n",
       "      <td>0.122334</td>\n",
       "    </tr>\n",
       "  </tbody>\n",
       "</table>\n",
       "</div>"
      ],
      "text/plain": [
       "Survived       0.0       1.0\n",
       "Sex                         \n",
       "female    0.090909  0.261504\n",
       "male      0.525253  0.122334"
      ]
     },
     "execution_count": 11,
     "metadata": {},
     "output_type": "execute_result"
    }
   ],
   "source": [
    "# Outra visão entre a variável \"Sexo\" e a target (em porcentagem)\n",
    "table=pd.crosstab(index=all_data['Sex'], columns=all_data['Survived'], normalize=True)\n",
    "table"
   ]
  },
  {
   "cell_type": "markdown",
   "id": "concerned-dietary",
   "metadata": {
    "papermill": {
     "duration": 0.040797,
     "end_time": "2021-05-23T17:36:36.217259",
     "exception": false,
     "start_time": "2021-05-23T17:36:36.176462",
     "status": "completed"
    },
    "tags": []
   },
   "source": [
    "Os box plot da variável target com a idade mostrou que dos passageiros que sobreviveram aos que morreram existe uma leve diferença de idade, para os que sobreviveram o intervalo de confiança é maior então, o que sugere que pessoas mais velhas sobreviveram ao desastre ao contrário do falecimento que tem um intervalo de confiança menor, no mais, os box plot indicaram que as informações de passageiros estão bem distribuídas independete do evento sem grandes dispersões ou muitos outliers (conseguimos identificar claramente um outlier) o que para uma base que será utilizada em modelos é bem importante. O mesmo (e talvez mais forte) é observado para a variável de pagamento da tarifa, o que faz sentido pois a tarifa não deveria ser tão dispersa entre os passageiros.\n",
    "Nadistribuição da variável target no sexo foi possível observar que do evento de sobreviver a maioria foi do sexo masculino (52%), e do evento de falecimento a maioria foi do sexo feminino.\n",
    "A maioria dos sobreviventes eram da terceira classe, essa relação pode ser explicada foi a quantidade de passageiros na terceira classe também foi maior, é natural que esta classe esteja destacada no gráfico.\n",
    "Outro ponto importante que foi de possível percepção foi que os passageiros que embarcaram em Southampton sobreviveram mais que os outros, essa relação também pode ser uma relação implícita de quantidade mas também pode sugerir que este era o porto mais próximo. \n"
   ]
  },
  {
   "cell_type": "markdown",
   "id": "natural-potter",
   "metadata": {
    "papermill": {
     "duration": 0.03905,
     "end_time": "2021-05-23T17:36:36.297709",
     "exception": false,
     "start_time": "2021-05-23T17:36:36.258659",
     "status": "completed"
    },
    "tags": []
   },
   "source": [
    "### 3) Seleção das variáveis para o modelo"
   ]
  },
  {
   "cell_type": "markdown",
   "id": "modified-minimum",
   "metadata": {
    "papermill": {
     "duration": 0.039136,
     "end_time": "2021-05-23T17:36:36.376827",
     "exception": false,
     "start_time": "2021-05-23T17:36:36.337691",
     "status": "completed"
    },
    "tags": []
   },
   "source": [
    "A seleção de variáveis se dará por meio de testes estatísticos que checam correlação entre duas variáveis em dois processos diferentes.\n",
    "Para variáveis categoricas utilizaremos teste do qui-quadrado\n",
    "Para variáveis contínuas utilizaremos o teste de ANOVA (Analise das variâncias)\n",
    "\n",
    "Tanto a ANOVA quanto o qui-quadrado são testes utilizados para evidenciar se as variáveis são estatísticamente significativas, estas diferem apenas em utilização (uma pra variáveis categóricas e outra numéricas) e em distribuição.\n",
    "\n",
    "\n",
    "Tanto para o teste de ANOVA quanto o do qui-quadrado as Hipoteses são:\n",
    "\n",
    "**H0:** As colunas NÃO são relacionadas. Não é estatisticamente significativo\n",
    "\n",
    "**H1:** As colunas SÃO são relacionadas. É estatisticamente significativo"
   ]
  },
  {
   "cell_type": "markdown",
   "id": "invalid-purple",
   "metadata": {
    "papermill": {
     "duration": 0.039707,
     "end_time": "2021-05-23T17:36:36.455639",
     "exception": false,
     "start_time": "2021-05-23T17:36:36.415932",
     "status": "completed"
    },
    "tags": []
   },
   "source": [
    "###### Variáveis Categóricas"
   ]
  },
  {
   "cell_type": "code",
   "execution_count": 12,
   "id": "commercial-relations",
   "metadata": {
    "execution": {
     "iopub.execute_input": "2021-05-23T17:36:36.541376Z",
     "iopub.status.busy": "2021-05-23T17:36:36.540738Z",
     "iopub.status.idle": "2021-05-23T17:36:36.542405Z",
     "shell.execute_reply": "2021-05-23T17:36:36.542919Z",
     "shell.execute_reply.started": "2021-05-23T17:34:43.899403Z"
    },
    "papermill": {
     "duration": 0.048071,
     "end_time": "2021-05-23T17:36:36.543066",
     "exception": false,
     "start_time": "2021-05-23T17:36:36.494995",
     "status": "completed"
    },
    "tags": []
   },
   "outputs": [],
   "source": [
    "# Esrevendo a função do qui-quadrado\n",
    "def qui_quadradofunc(dados, target, variaveis_categoricas):\n",
    "    from scipy.stats import chi2_contingency\n",
    "    \n",
    "    # Lista vazia para alocar as variáveis selecionadas\n",
    "    variaveis_selecionadas=[]\n",
    "    \n",
    "    #loop para aplicar o teste as variáveis\n",
    "    for i in variaveis_categoricas:\n",
    "        table_cross=pd.crosstab(index=dados[target], columns=dados[i])\n",
    "        chi_result = chi2_contingency(table_cross)\n",
    "        \n",
    "        # Se o p_valor do qui-quadrado for menor que  <0.05, rejeitamos H0 e é estatisticamente significativo\n",
    "        if (chi_result[1] < 0.05):\n",
    "            print(i, 'is correlated with', target, '| P-Value:', chi_result[1])\n",
    "            variaveis_selecionadas.append(i)\n",
    "        else:\n",
    "            print(i, 'is NOT correlated with', target, '| P-Value:', chi_result[1])        \n",
    "            \n",
    "    return(variaveis_selecionadas)\n"
   ]
  },
  {
   "cell_type": "code",
   "execution_count": 13,
   "id": "distributed-canberra",
   "metadata": {
    "execution": {
     "iopub.execute_input": "2021-05-23T17:36:36.629680Z",
     "iopub.status.busy": "2021-05-23T17:36:36.628830Z",
     "iopub.status.idle": "2021-05-23T17:36:36.696114Z",
     "shell.execute_reply": "2021-05-23T17:36:36.695627Z",
     "shell.execute_reply.started": "2021-05-23T17:34:43.907993Z"
    },
    "papermill": {
     "duration": 0.113596,
     "end_time": "2021-05-23T17:36:36.696245",
     "exception": false,
     "start_time": "2021-05-23T17:36:36.582649",
     "status": "completed"
    },
    "tags": []
   },
   "outputs": [
    {
     "name": "stdout",
     "output_type": "stream",
     "text": [
      "Pclass is correlated with Survived | P-Value: 4.549251711298793e-23\n",
      "Sex is correlated with Survived | P-Value: 1.1973570627755645e-58\n",
      "SibSp is correlated with Survived | P-Value: 1.5585810465902116e-06\n",
      "Parch is correlated with Survived | P-Value: 9.703526421039997e-05\n",
      "Embarked is correlated with Survived | P-Value: 1.769922284120912e-06\n"
     ]
    },
    {
     "data": {
      "text/plain": [
       "['Pclass', 'Sex', 'SibSp', 'Parch', 'Embarked']"
      ]
     },
     "execution_count": 13,
     "metadata": {},
     "output_type": "execute_result"
    }
   ],
   "source": [
    "categoricas=['Pclass', 'Sex', 'SibSp','Parch','Embarked']\n",
    "\n",
    "# Usando a função \n",
    "qui_quadradofunc(dados=all_data, \n",
    "              target='Survived',\n",
    "              variaveis_categoricas= categoricas)"
   ]
  },
  {
   "cell_type": "markdown",
   "id": "technological-macedonia",
   "metadata": {
    "papermill": {
     "duration": 0.041858,
     "end_time": "2021-05-23T17:36:36.781224",
     "exception": false,
     "start_time": "2021-05-23T17:36:36.739366",
     "status": "completed"
    },
    "tags": []
   },
   "source": [
    "###### Variáveis Contínuas"
   ]
  },
  {
   "cell_type": "code",
   "execution_count": 14,
   "id": "reserved-wrestling",
   "metadata": {
    "execution": {
     "iopub.execute_input": "2021-05-23T17:36:36.872416Z",
     "iopub.status.busy": "2021-05-23T17:36:36.871461Z",
     "iopub.status.idle": "2021-05-23T17:36:36.874347Z",
     "shell.execute_reply": "2021-05-23T17:36:36.873904Z",
     "shell.execute_reply.started": "2021-05-23T17:34:43.992281Z"
    },
    "papermill": {
     "duration": 0.051333,
     "end_time": "2021-05-23T17:36:36.874467",
     "exception": false,
     "start_time": "2021-05-23T17:36:36.823134",
     "status": "completed"
    },
    "tags": []
   },
   "outputs": [],
   "source": [
    "# Função para gerar o teste de ANOVA\n",
    "def anovafunc(dados, target, variaveis_continuas):\n",
    "    from scipy.stats import f_oneway\n",
    "\n",
    "    # criando a lista com as variáveis selecionadas\n",
    "    variaveis_selecionadas=[]\n",
    "    \n",
    "    #loop para aplicar o teste as variáveis\n",
    "    for i in variaveis_continuas:\n",
    "        continua_group=dados.groupby(target)[i].apply(list)\n",
    "        anova_result = f_oneway(*continua_group)\n",
    "                \n",
    "        # Printar o resultado, se p-valor menor que 0.05 rejeitar H0 e variáveis são correlacionadas\n",
    "        if (anova_result[1] < 0.05):\n",
    "            print(i, 'tem associação estatisticamente significativa com ', target, '| P-Value:', anova_result[1])\n",
    "            variaveis_selecionadas.append(i)\n",
    "        else:\n",
    "            print(i, ' NÃO tem associação estatisticamente significativa com ', target, '| P-Value:', anova_result[1])\n",
    "    \n",
    "    return(variaveis_selecionadas)\n"
   ]
  },
  {
   "cell_type": "code",
   "execution_count": 15,
   "id": "quantitative-secretariat",
   "metadata": {
    "execution": {
     "iopub.execute_input": "2021-05-23T17:36:36.964964Z",
     "iopub.status.busy": "2021-05-23T17:36:36.961511Z",
     "iopub.status.idle": "2021-05-23T17:36:36.971986Z",
     "shell.execute_reply": "2021-05-23T17:36:36.971185Z",
     "shell.execute_reply.started": "2021-05-23T17:34:44.000411Z"
    },
    "papermill": {
     "duration": 0.056641,
     "end_time": "2021-05-23T17:36:36.972165",
     "exception": false,
     "start_time": "2021-05-23T17:36:36.915524",
     "status": "completed"
    },
    "tags": []
   },
   "outputs": [
    {
     "name": "stdout",
     "output_type": "stream",
     "text": [
      "Age  NÃO tem associação estatisticamente significativa com  Survived | P-Value: nan\n",
      "Fare tem associação estatisticamente significativa com  Survived | P-Value: 6.120189341921873e-15\n"
     ]
    },
    {
     "data": {
      "text/plain": [
       "['Fare']"
      ]
     },
     "execution_count": 15,
     "metadata": {},
     "output_type": "execute_result"
    }
   ],
   "source": [
    "# Usando a função \n",
    "variaveiscontinuas=['Age','Fare']\n",
    "anovafunc(dados=all_data, target='Survived', variaveis_continuas=variaveiscontinuas)"
   ]
  },
  {
   "cell_type": "markdown",
   "id": "graduate-tissue",
   "metadata": {
    "papermill": {
     "duration": 0.04104,
     "end_time": "2021-05-23T17:36:37.054072",
     "exception": false,
     "start_time": "2021-05-23T17:36:37.013032",
     "status": "completed"
    },
    "tags": []
   },
   "source": [
    "A partir do resultados dos testes descobrimos que as variáveis com associação significativa e que irão continuar no processo são: \n",
    "1. Classe da viagem do Passageiro\n",
    "2. Gênero\n",
    "3. Número de Irmãos ou Cônjuges abordo\n",
    "4. Número de Pais ou Crianças abordo\n",
    "5. Valor de tarifa paga\n",
    "6. Porto de Embarcação\n"
   ]
  },
  {
   "cell_type": "code",
   "execution_count": 16,
   "id": "european-hepatitis",
   "metadata": {
    "execution": {
     "iopub.execute_input": "2021-05-23T17:36:37.142950Z",
     "iopub.status.busy": "2021-05-23T17:36:37.142389Z",
     "iopub.status.idle": "2021-05-23T17:36:37.144696Z",
     "shell.execute_reply": "2021-05-23T17:36:37.145213Z",
     "shell.execute_reply.started": "2021-05-23T17:34:44.022351Z"
    },
    "papermill": {
     "duration": 0.049181,
     "end_time": "2021-05-23T17:36:37.145351",
     "exception": false,
     "start_time": "2021-05-23T17:36:37.096170",
     "status": "completed"
    },
    "tags": []
   },
   "outputs": [],
   "source": [
    "colunas_selecionadas=['Pclass', 'Sex', 'SibSp', 'Parch', 'Embarked','Fare']\n",
    "\n",
    "# Selecting final columns\n",
    "selec_train = train[colunas_selecionadas]\n",
    "test = test[colunas_selecionadas]"
   ]
  },
  {
   "cell_type": "markdown",
   "id": "north-terminology",
   "metadata": {
    "papermill": {
     "duration": 0.042248,
     "end_time": "2021-05-23T17:36:37.229552",
     "exception": false,
     "start_time": "2021-05-23T17:36:37.187304",
     "status": "completed"
    },
    "tags": []
   },
   "source": [
    "### 4) Processamento dos dados "
   ]
  },
  {
   "cell_type": "markdown",
   "id": "identical-thinking",
   "metadata": {
    "papermill": {
     "duration": 0.04049,
     "end_time": "2021-05-23T17:36:37.311713",
     "exception": false,
     "start_time": "2021-05-23T17:36:37.271223",
     "status": "completed"
    },
    "tags": []
   },
   "source": [
    "Antes de entramos na etapa de machine Learning algumas transformações são necessárias para garatir que o desempenho do modelo não seja afetado por algum tipo de erro:\n",
    "- Tratar Nan valores\n",
    "- Transformar variáveis binárias em numéricas (1/0) (Sobreviventes)\n",
    "- Gerar dummies nas variáveis nominais categóricas\n",
    "\n",
    "Além disso voltaremos a utilizar a base de treino e teste nesta seção.\n",
    "\n"
   ]
  },
  {
   "cell_type": "code",
   "execution_count": 17,
   "id": "received-wildlife",
   "metadata": {
    "execution": {
     "iopub.execute_input": "2021-05-23T17:36:37.397805Z",
     "iopub.status.busy": "2021-05-23T17:36:37.397216Z",
     "iopub.status.idle": "2021-05-23T17:36:37.404131Z",
     "shell.execute_reply": "2021-05-23T17:36:37.404549Z",
     "shell.execute_reply.started": "2021-05-23T17:34:44.038676Z"
    },
    "papermill": {
     "duration": 0.050663,
     "end_time": "2021-05-23T17:36:37.404676",
     "exception": false,
     "start_time": "2021-05-23T17:36:37.354013",
     "status": "completed"
    },
    "tags": []
   },
   "outputs": [],
   "source": [
    "#Fare\n",
    "selec_train['Fare'] = np.where(selec_train.Fare.isna(), np.mean(test.Fare), selec_train.Fare)\n",
    "test['Fare'] = np.where(test.Fare.isna(), np.mean(test.Fare), test.Fare)\n"
   ]
  },
  {
   "cell_type": "code",
   "execution_count": 18,
   "id": "brown-oxygen",
   "metadata": {
    "execution": {
     "iopub.execute_input": "2021-05-23T17:36:37.491470Z",
     "iopub.status.busy": "2021-05-23T17:36:37.490940Z",
     "iopub.status.idle": "2021-05-23T17:36:37.495909Z",
     "shell.execute_reply": "2021-05-23T17:36:37.496326Z",
     "shell.execute_reply.started": "2021-05-23T17:34:44.052225Z"
    },
    "papermill": {
     "duration": 0.050838,
     "end_time": "2021-05-23T17:36:37.496478",
     "exception": false,
     "start_time": "2021-05-23T17:36:37.445640",
     "status": "completed"
    },
    "tags": []
   },
   "outputs": [],
   "source": [
    "#Fare\n",
    "selec_train['Embarked'] = np.where(selec_train.Embarked.isna(), 'Unknow', selec_train.Embarked)\n",
    "test['Embarked'] = np.where(test.Embarked.isna(), 'Unknow', test.Embarked)"
   ]
  },
  {
   "cell_type": "code",
   "execution_count": 19,
   "id": "welcome-genetics",
   "metadata": {
    "execution": {
     "iopub.execute_input": "2021-05-23T17:36:37.592337Z",
     "iopub.status.busy": "2021-05-23T17:36:37.591715Z",
     "iopub.status.idle": "2021-05-23T17:36:37.603735Z",
     "shell.execute_reply": "2021-05-23T17:36:37.603189Z",
     "shell.execute_reply.started": "2021-05-23T17:34:44.065468Z"
    },
    "papermill": {
     "duration": 0.061124,
     "end_time": "2021-05-23T17:36:37.603887",
     "exception": false,
     "start_time": "2021-05-23T17:36:37.542763",
     "status": "completed"
    },
    "tags": []
   },
   "outputs": [
    {
     "name": "stdout",
     "output_type": "stream",
     "text": [
      "Quantidade de valores nulos na base de treino: Pclass      0\n",
      "Sex         0\n",
      "SibSp       0\n",
      "Parch       0\n",
      "Embarked    0\n",
      "Fare        0\n",
      "dtype: int64\n",
      "Quantidade de valores nulos na base de teste: Pclass      0\n",
      "Sex         0\n",
      "SibSp       0\n",
      "Parch       0\n",
      "Embarked    0\n",
      "Fare        0\n",
      "dtype: int64\n"
     ]
    }
   ],
   "source": [
    "# nulos em cada base treino\n",
    "print('Quantidade de valores nulos na base de treino:', selec_train.isna().sum()) # são os valores da base de teste\n",
    "\n",
    "# nulos em cada base teste\n",
    "print('Quantidade de valores nulos na base de teste:', test.isna().sum()) # são os valores da base de teste\n"
   ]
  },
  {
   "cell_type": "code",
   "execution_count": 20,
   "id": "adjacent-material",
   "metadata": {
    "execution": {
     "iopub.execute_input": "2021-05-23T17:36:37.703368Z",
     "iopub.status.busy": "2021-05-23T17:36:37.702506Z",
     "iopub.status.idle": "2021-05-23T17:36:37.705458Z",
     "shell.execute_reply": "2021-05-23T17:36:37.705047Z",
     "shell.execute_reply.started": "2021-05-23T17:34:44.084259Z"
    },
    "papermill": {
     "duration": 0.05296,
     "end_time": "2021-05-23T17:36:37.705566",
     "exception": false,
     "start_time": "2021-05-23T17:36:37.652606",
     "status": "completed"
    },
    "tags": []
   },
   "outputs": [],
   "source": [
    "# Converter variável categoria sexo em  binária\n",
    "selec_train['Sex'].replace({'female':0, 'male':1}, inplace=True)\n",
    "test['Sex'].replace({'female':0, 'male':1}, inplace=True)"
   ]
  },
  {
   "cell_type": "code",
   "execution_count": 21,
   "id": "chief-characteristic",
   "metadata": {
    "execution": {
     "iopub.execute_input": "2021-05-23T17:36:37.812194Z",
     "iopub.status.busy": "2021-05-23T17:36:37.811339Z",
     "iopub.status.idle": "2021-05-23T17:36:37.831935Z",
     "shell.execute_reply": "2021-05-23T17:36:37.832391Z",
     "shell.execute_reply.started": "2021-05-23T17:34:44.096355Z"
    },
    "papermill": {
     "duration": 0.070871,
     "end_time": "2021-05-23T17:36:37.832540",
     "exception": false,
     "start_time": "2021-05-23T17:36:37.761669",
     "status": "completed"
    },
    "tags": []
   },
   "outputs": [
    {
     "data": {
      "text/html": [
       "<div>\n",
       "<style scoped>\n",
       "    .dataframe tbody tr th:only-of-type {\n",
       "        vertical-align: middle;\n",
       "    }\n",
       "\n",
       "    .dataframe tbody tr th {\n",
       "        vertical-align: top;\n",
       "    }\n",
       "\n",
       "    .dataframe thead th {\n",
       "        text-align: right;\n",
       "    }\n",
       "</style>\n",
       "<table border=\"1\" class=\"dataframe\">\n",
       "  <thead>\n",
       "    <tr style=\"text-align: right;\">\n",
       "      <th></th>\n",
       "      <th>Pclass</th>\n",
       "      <th>Sex</th>\n",
       "      <th>SibSp</th>\n",
       "      <th>Parch</th>\n",
       "      <th>Fare</th>\n",
       "      <th>Embarked_C</th>\n",
       "      <th>Embarked_Q</th>\n",
       "      <th>Embarked_S</th>\n",
       "      <th>Embarked_Unknow</th>\n",
       "      <th>Survived</th>\n",
       "    </tr>\n",
       "  </thead>\n",
       "  <tbody>\n",
       "    <tr>\n",
       "      <th>0</th>\n",
       "      <td>3</td>\n",
       "      <td>1</td>\n",
       "      <td>1</td>\n",
       "      <td>0</td>\n",
       "      <td>7.2500</td>\n",
       "      <td>0</td>\n",
       "      <td>0</td>\n",
       "      <td>1</td>\n",
       "      <td>0</td>\n",
       "      <td>0</td>\n",
       "    </tr>\n",
       "    <tr>\n",
       "      <th>1</th>\n",
       "      <td>1</td>\n",
       "      <td>0</td>\n",
       "      <td>1</td>\n",
       "      <td>0</td>\n",
       "      <td>71.2833</td>\n",
       "      <td>1</td>\n",
       "      <td>0</td>\n",
       "      <td>0</td>\n",
       "      <td>0</td>\n",
       "      <td>1</td>\n",
       "    </tr>\n",
       "    <tr>\n",
       "      <th>2</th>\n",
       "      <td>3</td>\n",
       "      <td>0</td>\n",
       "      <td>0</td>\n",
       "      <td>0</td>\n",
       "      <td>7.9250</td>\n",
       "      <td>0</td>\n",
       "      <td>0</td>\n",
       "      <td>1</td>\n",
       "      <td>0</td>\n",
       "      <td>1</td>\n",
       "    </tr>\n",
       "    <tr>\n",
       "      <th>3</th>\n",
       "      <td>1</td>\n",
       "      <td>0</td>\n",
       "      <td>1</td>\n",
       "      <td>0</td>\n",
       "      <td>53.1000</td>\n",
       "      <td>0</td>\n",
       "      <td>0</td>\n",
       "      <td>1</td>\n",
       "      <td>0</td>\n",
       "      <td>1</td>\n",
       "    </tr>\n",
       "    <tr>\n",
       "      <th>4</th>\n",
       "      <td>3</td>\n",
       "      <td>1</td>\n",
       "      <td>0</td>\n",
       "      <td>0</td>\n",
       "      <td>8.0500</td>\n",
       "      <td>0</td>\n",
       "      <td>0</td>\n",
       "      <td>1</td>\n",
       "      <td>0</td>\n",
       "      <td>0</td>\n",
       "    </tr>\n",
       "  </tbody>\n",
       "</table>\n",
       "</div>"
      ],
      "text/plain": [
       "   Pclass  Sex  SibSp  Parch     Fare  Embarked_C  Embarked_Q  Embarked_S  \\\n",
       "0       3    1      1      0   7.2500           0           0           1   \n",
       "1       1    0      1      0  71.2833           1           0           0   \n",
       "2       3    0      0      0   7.9250           0           0           1   \n",
       "3       1    0      1      0  53.1000           0           0           1   \n",
       "4       3    1      0      0   8.0500           0           0           1   \n",
       "\n",
       "   Embarked_Unknow  Survived  \n",
       "0                0         0  \n",
       "1                0         1  \n",
       "2                0         1  \n",
       "3                0         1  \n",
       "4                0         0  "
      ]
     },
     "execution_count": 21,
     "metadata": {},
     "output_type": "execute_result"
    }
   ],
   "source": [
    "# Converter as outras variáveis nominais em dummie¶\n",
    "selec_train=pd.get_dummies(selec_train)\n",
    "test=pd.get_dummies(test)\n",
    "\n",
    "\n",
    "# Adicionando a variável target de volta para a base\n",
    "selec_train['Survived']=train['Survived']\n",
    "\n",
    "# Printando head do treino\n",
    "selec_train.head()"
   ]
  },
  {
   "cell_type": "markdown",
   "id": "western-drilling",
   "metadata": {
    "papermill": {
     "duration": 0.042042,
     "end_time": "2021-05-23T17:36:37.916666",
     "exception": false,
     "start_time": "2021-05-23T17:36:37.874624",
     "status": "completed"
    },
    "tags": []
   },
   "source": [
    "##### Definindo o X_train, y_train e X_train que será ultilizado nos modelos:"
   ]
  },
  {
   "cell_type": "code",
   "execution_count": 22,
   "id": "excessive-newton",
   "metadata": {
    "execution": {
     "iopub.execute_input": "2021-05-23T17:36:38.007573Z",
     "iopub.status.busy": "2021-05-23T17:36:38.006731Z",
     "iopub.status.idle": "2021-05-23T17:36:38.012398Z",
     "shell.execute_reply": "2021-05-23T17:36:38.012862Z",
     "shell.execute_reply.started": "2021-05-23T17:34:44.127591Z"
    },
    "papermill": {
     "duration": 0.052762,
     "end_time": "2021-05-23T17:36:38.013033",
     "exception": false,
     "start_time": "2021-05-23T17:36:37.960271",
     "status": "completed"
    },
    "tags": []
   },
   "outputs": [],
   "source": [
    "target='Survived'\n",
    "variaveis=['Pclass', 'Sex', 'SibSp', 'Parch', 'Fare', 'Embarked_C', 'Embarked_Q','Embarked_S']\n",
    "\n",
    "X_train = selec_train[variaveis]\n",
    "y_train = selec_train[target]\n",
    "X_test = test\n"
   ]
  },
  {
   "cell_type": "markdown",
   "id": "assured-franchise",
   "metadata": {
    "papermill": {
     "duration": 0.041153,
     "end_time": "2021-05-23T17:36:38.096380",
     "exception": false,
     "start_time": "2021-05-23T17:36:38.055227",
     "status": "completed"
    },
    "tags": []
   },
   "source": [
    "### 5) Rodando modelos"
   ]
  },
  {
   "cell_type": "markdown",
   "id": "amateur-spouse",
   "metadata": {
    "papermill": {
     "duration": 0.043809,
     "end_time": "2021-05-23T17:36:38.181832",
     "exception": false,
     "start_time": "2021-05-23T17:36:38.138023",
     "status": "completed"
    },
    "tags": []
   },
   "source": [
    "Para os modelos optei por três dos principais modelos utilizados em problemas de classificação:\n",
    "* XGBoost\n",
    "* RandomForest\n",
    "* Logistic Regression\n",
    "\n",
    "###### *Não utilizei nenhum tipo de Normalização nos dados pois com estes modelos não é necessário/obrigatório e não afeta tanto o desempenho e performance"
   ]
  },
  {
   "cell_type": "markdown",
   "id": "sharp-party",
   "metadata": {
    "papermill": {
     "duration": 0.042112,
     "end_time": "2021-05-23T17:36:38.265378",
     "exception": false,
     "start_time": "2021-05-23T17:36:38.223266",
     "status": "completed"
    },
    "tags": []
   },
   "source": [
    "#### **XGBoost**\n",
    "\n",
    "A denominação \"XGBoost\" vem de eXtreme Gradient Boosting e representa uma categoria de algoritmos baseados em Decision Trees (árvores de decisão) com Gradient Boosting (aumento de gradiente), essa junção do aumento de gradiente e as árvores de decisão contribuem para que a cada novo modelo a ser implementado a perca (loss) seja menor.\n",
    "É um algoritmo recente e que vem ganhando espaço nas competições do Kaggle, principalmente pela facilidade em ajustar paramêtros (o que não faremos hoje). "
   ]
  },
  {
   "cell_type": "code",
   "execution_count": 23,
   "id": "capable-coral",
   "metadata": {
    "execution": {
     "iopub.execute_input": "2021-05-23T17:36:38.353467Z",
     "iopub.status.busy": "2021-05-23T17:36:38.352594Z",
     "iopub.status.idle": "2021-05-23T17:36:40.938457Z",
     "shell.execute_reply": "2021-05-23T17:36:40.939262Z",
     "shell.execute_reply.started": "2021-05-23T17:34:44.136033Z"
    },
    "papermill": {
     "duration": 2.632081,
     "end_time": "2021-05-23T17:36:40.939575",
     "exception": false,
     "start_time": "2021-05-23T17:36:38.307494",
     "status": "completed"
    },
    "tags": []
   },
   "outputs": [
    {
     "name": "stdout",
     "output_type": "stream",
     "text": [
      "[17:36:38] WARNING: ../src/learner.cc:1095: Starting in XGBoost 1.3.0, the default evaluation metric used with the objective 'binary:logistic' was changed from 'error' to 'logloss'. Explicitly set eval_metric if you'd like to restore the old behavior.\n",
      "[17:36:38] WARNING: ../src/learner.cc:1095: Starting in XGBoost 1.3.0, the default evaluation metric used with the objective 'binary:logistic' was changed from 'error' to 'logloss'. Explicitly set eval_metric if you'd like to restore the old behavior.\n",
      "[17:36:38] WARNING: ../src/learner.cc:1095: Starting in XGBoost 1.3.0, the default evaluation metric used with the objective 'binary:logistic' was changed from 'error' to 'logloss'. Explicitly set eval_metric if you'd like to restore the old behavior.\n",
      "[17:36:39] WARNING: ../src/learner.cc:1095: Starting in XGBoost 1.3.0, the default evaluation metric used with the objective 'binary:logistic' was changed from 'error' to 'logloss'. Explicitly set eval_metric if you'd like to restore the old behavior.\n",
      "[17:36:39] WARNING: ../src/learner.cc:1095: Starting in XGBoost 1.3.0, the default evaluation metric used with the objective 'binary:logistic' was changed from 'error' to 'logloss'. Explicitly set eval_metric if you'd like to restore the old behavior.\n",
      "[17:36:39] WARNING: ../src/learner.cc:1095: Starting in XGBoost 1.3.0, the default evaluation metric used with the objective 'binary:logistic' was changed from 'error' to 'logloss'. Explicitly set eval_metric if you'd like to restore the old behavior.\n",
      "[17:36:39] WARNING: ../src/learner.cc:1095: Starting in XGBoost 1.3.0, the default evaluation metric used with the objective 'binary:logistic' was changed from 'error' to 'logloss'. Explicitly set eval_metric if you'd like to restore the old behavior.\n",
      "[17:36:40] WARNING: ../src/learner.cc:1095: Starting in XGBoost 1.3.0, the default evaluation metric used with the objective 'binary:logistic' was changed from 'error' to 'logloss'. Explicitly set eval_metric if you'd like to restore the old behavior.\n",
      "[17:36:40] WARNING: ../src/learner.cc:1095: Starting in XGBoost 1.3.0, the default evaluation metric used with the objective 'binary:logistic' was changed from 'error' to 'logloss'. Explicitly set eval_metric if you'd like to restore the old behavior.\n",
      "[17:36:40] WARNING: ../src/learner.cc:1095: Starting in XGBoost 1.3.0, the default evaluation metric used with the objective 'binary:logistic' was changed from 'error' to 'logloss'. Explicitly set eval_metric if you'd like to restore the old behavior.\n",
      "[17:36:40] WARNING: ../src/learner.cc:1095: Starting in XGBoost 1.3.0, the default evaluation metric used with the objective 'binary:logistic' was changed from 'error' to 'logloss'. Explicitly set eval_metric if you'd like to restore the old behavior.\n",
      "\n",
      "Accuracy values for 10-fold Cross Validation:\n",
      " [0.77649393 0.72426291 0.71138693 0.8554571  0.89857726 0.80842372\n",
      " 0.80374311 0.78588533 0.84054061 0.80729363]\n",
      "\n",
      "Final Average Accuracy of the model: 0.8012064534843099\n"
     ]
    }
   ],
   "source": [
    "# Definindo o modelo e parametros (testei alguns para chegar no \"ideal\")\n",
    "clf=XGBClassifier(max_depth=8, learning_rate=0.1,\n",
    "                  n_estimators=280, objective='binary:logistic', booster='gbtree')\n",
    "\n",
    "\n",
    "# Criando o modelo na base de treino\n",
    "XGB=clf.fit(X_train,y_train)\n",
    "\n",
    "# predição\n",
    "prediction=XGB.predict(X_test)\n",
    "\n",
    "# Rodando o cross validation e gerando a acurácia do modelo\n",
    "acuracia_values=cross_val_score(XGB, X_train , y_train, cv=10, scoring='f1_weighted')\n",
    "print('\\nAccuracy values for 10-fold Cross Validation:\\n',acuracia_values)\n",
    "print('\\nFinal Average Accuracy of the model:', acuracia_values.mean())\n",
    "\n"
   ]
  },
  {
   "cell_type": "markdown",
   "id": "gothic-progress",
   "metadata": {
    "papermill": {
     "duration": 0.043855,
     "end_time": "2021-05-23T17:36:41.031504",
     "exception": false,
     "start_time": "2021-05-23T17:36:40.987649",
     "status": "completed"
    },
    "tags": []
   },
   "source": [
    "#### **Floresta aleatória**\n",
    "\n",
    "Florestas aleatórias ou florestas de decisão aleatória (em inglês RandomForest) correspondem à um método de Machine Learning para bases de classificação, regressão e outras tarefas que operam assim como o nome diz, construindo uma infinidade de ávores de probabilidade e decisão até que seja ou atingido o objetivo ou parado através dos paramêtros."
   ]
  },
  {
   "cell_type": "code",
   "execution_count": 24,
   "id": "corrected-cross",
   "metadata": {
    "execution": {
     "iopub.execute_input": "2021-05-23T17:36:41.129631Z",
     "iopub.status.busy": "2021-05-23T17:36:41.128616Z",
     "iopub.status.idle": "2021-05-23T17:36:46.955811Z",
     "shell.execute_reply": "2021-05-23T17:36:46.956620Z",
     "shell.execute_reply.started": "2021-05-23T17:34:47.088327Z"
    },
    "papermill": {
     "duration": 5.880265,
     "end_time": "2021-05-23T17:36:46.956950",
     "exception": false,
     "start_time": "2021-05-23T17:36:41.076685",
     "status": "completed"
    },
    "tags": []
   },
   "outputs": [
    {
     "name": "stdout",
     "output_type": "stream",
     "text": [
      "\n",
      "Accuracy values for 10-fold Cross Validation:\n",
      " [0.77097382 0.73447598 0.77256866 0.86332052 0.88610043 0.81433378\n",
      " 0.80164322 0.73163495 0.82285899 0.80001088]\n",
      "\n",
      "Final Average Accuracy of the model: 0.7997921227543363\n"
     ]
    }
   ],
   "source": [
    "# Definindo parametros max_depth/n_estimator / criterion (testei alguns e cheguei no \"ideal\")\n",
    "clf = RandomForestClassifier(max_depth=4, n_estimators=300,criterion='gini')\n",
    "\n",
    "# Creating the model on Training Data\n",
    "RF=clf.fit(X_train,y_train)\n",
    "\n",
    "# predição\n",
    "prediction=RF.predict(X_test)\n",
    "\n",
    "# Rodando o cross validation e gerando a acurácia do modelo\n",
    "acuracia_values=cross_val_score(RF, X_train , y_train, cv=10, scoring='f1_weighted')\n",
    "print('\\nAccuracy values for 10-fold Cross Validation:\\n',acuracia_values)\n",
    "print('\\nFinal Average Accuracy of the model:', acuracia_values.mean())\n",
    "\n"
   ]
  },
  {
   "cell_type": "markdown",
   "id": "flush-anthony",
   "metadata": {
    "papermill": {
     "duration": 0.045092,
     "end_time": "2021-05-23T17:36:47.047729",
     "exception": false,
     "start_time": "2021-05-23T17:36:47.002637",
     "status": "completed"
    },
    "tags": []
   },
   "source": [
    "#### **Regressão Logística**\n",
    "Regressão Logística são modelos estatísticos que usam o básico da Regressão Logística (que é uma função com a variável dependente sendo binária), para que seja melhorada essa regressão sçao utilizados parâmetros.\n"
   ]
  },
  {
   "cell_type": "code",
   "execution_count": 25,
   "id": "necessary-variable",
   "metadata": {
    "execution": {
     "iopub.execute_input": "2021-05-23T17:36:47.147564Z",
     "iopub.status.busy": "2021-05-23T17:36:47.147036Z",
     "iopub.status.idle": "2021-05-23T17:36:47.504411Z",
     "shell.execute_reply": "2021-05-23T17:36:47.503768Z",
     "shell.execute_reply.started": "2021-05-23T17:34:51.792233Z"
    },
    "papermill": {
     "duration": 0.411576,
     "end_time": "2021-05-23T17:36:47.504587",
     "exception": false,
     "start_time": "2021-05-23T17:36:47.093011",
     "status": "completed"
    },
    "tags": []
   },
   "outputs": [
    {
     "name": "stdout",
     "output_type": "stream",
     "text": [
      "\n",
      "Acurácia em k=10 cross validation:\n",
      " [0.77649393 0.77641044 0.77021909 0.82182649 0.7987694  0.75981111\n",
      " 0.78268624 0.75756502 0.79649424 0.78302904]\n",
      "\n",
      "Acurácia Final: 0.7823304996937719\n"
     ]
    }
   ],
   "source": [
    "# Definindo os parametros C / penalty / solver (testei alguns até chegar no \"ideal\")\n",
    "clf = LogisticRegression(C=5,penalty='l2', solver='newton-cg')\n",
    "\n",
    "# Criando o modelo e treinando os dados\n",
    "LOG=clf.fit(X_train,y_train)\n",
    "\n",
    "# predição\n",
    "prediction=LOG.predict(X_test)\n",
    "\n",
    "\n",
    "# Rodando o cross validation e gerando a acurácia do modelo\n",
    "acuracia_values=cross_val_score(LOG, X_train , y_train, cv=10, scoring='f1_weighted')\n",
    "print('\\nAcurácia em k=10 cross validation:\\n',acuracia_values)\n",
    "print('\\nAcurácia Final:', acuracia_values.mean())"
   ]
  },
  {
   "cell_type": "markdown",
   "id": "beginning-ozone",
   "metadata": {
    "papermill": {
     "duration": 0.046764,
     "end_time": "2021-05-23T17:36:47.600054",
     "exception": false,
     "start_time": "2021-05-23T17:36:47.553290",
     "status": "completed"
    },
    "tags": []
   },
   "source": [
    "### 6) Conclusão\n",
    "Conclusões sobre a competição e a escolha do modelo"
   ]
  },
  {
   "cell_type": "markdown",
   "id": "underlying-elevation",
   "metadata": {
    "execution": {
     "iopub.execute_input": "2021-05-22T18:19:47.576513Z",
     "iopub.status.busy": "2021-05-22T18:19:47.576166Z",
     "iopub.status.idle": "2021-05-22T18:19:47.629198Z",
     "shell.execute_reply": "2021-05-22T18:19:47.627754Z",
     "shell.execute_reply.started": "2021-05-22T18:19:47.576486Z"
    },
    "papermill": {
     "duration": 0.046081,
     "end_time": "2021-05-23T17:36:47.692581",
     "exception": false,
     "start_time": "2021-05-23T17:36:47.646500",
     "status": "completed"
    },
    "tags": []
   },
   "source": [
    "Foi possível obter aproximadamente 80% de acurácia com o modelo XGBoost e que me fez escolher por ele.\n",
    "\n",
    "Considero um grande feito para um modelo desenvolvido do zero em menos de dois dias e com grande simplicidade, aceito como um bom resultado mas que pode ser muito melhorado. \n",
    "Pontos de melhora já identificados:\n",
    "- Testar Hiperparametrização até achar o ideal (fiz na tentativa e erro devido ao tempo)\n",
    "- Fazer Normalização nas variáveis para testar com e sem\n"
   ]
  },
  {
   "cell_type": "markdown",
   "id": "fifty-lambda",
   "metadata": {
    "papermill": {
     "duration": 0.046035,
     "end_time": "2021-05-23T17:36:47.783627",
     "exception": false,
     "start_time": "2021-05-23T17:36:47.737592",
     "status": "completed"
    },
    "tags": []
   },
   "source": [
    "### 7) Submissão no Kaggle\n",
    "Agora é hora de submeter os resulados ao Kaggle! Foi ótima esta mini-jornada, muito obrigada!"
   ]
  },
  {
   "cell_type": "code",
   "execution_count": 26,
   "id": "considerable-accuracy",
   "metadata": {
    "execution": {
     "iopub.execute_input": "2021-05-23T17:36:47.883981Z",
     "iopub.status.busy": "2021-05-23T17:36:47.883315Z",
     "iopub.status.idle": "2021-05-23T17:36:47.900543Z",
     "shell.execute_reply": "2021-05-23T17:36:47.901012Z",
     "shell.execute_reply.started": "2021-05-23T17:34:52.145960Z"
    },
    "papermill": {
     "duration": 0.0696,
     "end_time": "2021-05-23T17:36:47.901180",
     "exception": false,
     "start_time": "2021-05-23T17:36:47.831580",
     "status": "completed"
    },
    "tags": []
   },
   "outputs": [],
   "source": [
    "#Gerar a base de teste e predições e submeter ao kaggle\n",
    "output_df = pd.read_csv('../input/titanic/test.csv')\n",
    "output = output_df.loc[X_test.index]\n",
    "prediction=XGB.predict(X_test) # com o melhor algoritmo\n",
    "output['Survived'] = prediction\n",
    "output = output[['PassengerId', 'Survived']]\n",
    "output.to_csv('submission.csv', index=False)"
   ]
  }
 ],
 "metadata": {
  "kernelspec": {
   "display_name": "Python 3",
   "language": "python",
   "name": "python3"
  },
  "language_info": {
   "codemirror_mode": {
    "name": "ipython",
    "version": 3
   },
   "file_extension": ".py",
   "mimetype": "text/x-python",
   "name": "python",
   "nbconvert_exporter": "python",
   "pygments_lexer": "ipython3",
   "version": "3.7.10"
  },
  "papermill": {
   "default_parameters": {},
   "duration": 24.43923,
   "end_time": "2021-05-23T17:36:48.555840",
   "environment_variables": {},
   "exception": null,
   "input_path": "__notebook__.ipynb",
   "output_path": "__notebook__.ipynb",
   "parameters": {},
   "start_time": "2021-05-23T17:36:24.116610",
   "version": "2.3.3"
  }
 },
 "nbformat": 4,
 "nbformat_minor": 5
}
